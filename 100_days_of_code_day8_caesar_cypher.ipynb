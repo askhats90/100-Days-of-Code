{
 "cells": [
  {
   "cell_type": "markdown",
   "id": "cd19a2de",
   "metadata": {},
   "source": [
    "## Caesar Cypher"
   ]
  },
  {
   "cell_type": "code",
   "execution_count": 5,
   "id": "8fdbd5b9",
   "metadata": {},
   "outputs": [],
   "source": [
    "alphabet = ['a', 'b', 'c', 'd', 'e', 'f', 'g', 'h', 'i', 'j', 'k', 'l', 'm', 'n', 'o', 'p', 'q', 'r', 's', 't', 'u', 'v', 'w', 'x', 'y', 'z']\n",
    "\n",
    "def caesar_cypher(cypher_direction, plain_text, shift_amount):\n",
    "    index_list = []\n",
    "    message = ''\n",
    "    \n",
    "    for i in plain_text:\n",
    "        if i not in alphabet:\n",
    "            index_list.append(str(i))\n",
    "        else:\n",
    "            index_list.append(alphabet.index(i))\n",
    "        \n",
    "    if cypher_direction == 'encode':\n",
    "        for i in index_list:\n",
    "            if type(i) == str:\n",
    "                message += str(i)\n",
    "            else:\n",
    "                message += alphabet[i + (shift_amount % len(alphabet)) - len(alphabet)]\n",
    "    elif cypher_direction == 'decode':\n",
    "        for i in index_list:\n",
    "            if type(i) == str:\n",
    "                message += str(i)\n",
    "            else:\n",
    "                message += alphabet[i - (shift_amount % len(alphabet))]\n",
    "    else:\n",
    "        print('Choose valid option.')\n",
    "        \n",
    "    print(f'The {cypher_direction}d text is {message}')"
   ]
  },
  {
   "cell_type": "code",
   "execution_count": 7,
   "id": "912aa12c",
   "metadata": {},
   "outputs": [
    {
     "name": "stdout",
     "output_type": "stream",
     "text": [
      "Type 'encode' to encrypt, type 'decode' to decrypt:\n",
      "encode\n",
      "Type your message:\n",
      "hello 254\n",
      "Type the shift number:\n",
      "100352\n",
      "The encoded text is zwddg 254\n",
      "Do you want to continue? Type 'yes' or 'no'.yes\n",
      "Type 'encode' to encrypt, type 'decode' to decrypt:\n",
      "decode\n",
      "Type your message:\n",
      "zwddg 254\n",
      "Type the shift number:\n",
      "100352\n",
      "The decoded text is hello 254\n",
      "Do you want to continue? Type 'yes' or 'no'.no\n"
     ]
    }
   ],
   "source": [
    "should_continue = True\n",
    "\n",
    "while should_continue:\n",
    "    direction = input(\"Type 'encode' to encrypt, type 'decode' to decrypt:\\n\")\n",
    "    text = input(\"Type your message:\\n\").lower()\n",
    "    shift = int(input(\"Type the shift number:\\n\"))\n",
    "    caesar_cypher(direction, text, shift)\n",
    "    \n",
    "    user_reply = input(\"Do you want to continue? Type 'yes' or 'no'.\")\n",
    "    if user_reply.lower() == 'yes':\n",
    "        should_continue = True\n",
    "    elif user_reply.lower() == 'no':\n",
    "        should_continue = False\n",
    "    else:\n",
    "        print('Choose valid reply.')"
   ]
  }
 ],
 "metadata": {
  "kernelspec": {
   "display_name": "Python 3 (ipykernel)",
   "language": "python",
   "name": "python3"
  },
  "language_info": {
   "codemirror_mode": {
    "name": "ipython",
    "version": 3
   },
   "file_extension": ".py",
   "mimetype": "text/x-python",
   "name": "python",
   "nbconvert_exporter": "python",
   "pygments_lexer": "ipython3",
   "version": "3.9.7"
  }
 },
 "nbformat": 4,
 "nbformat_minor": 5
}
