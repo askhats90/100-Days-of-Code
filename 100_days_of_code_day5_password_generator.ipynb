{
 "cells": [
  {
   "cell_type": "markdown",
   "id": "93e4a320",
   "metadata": {},
   "source": [
    "## Password Generator"
   ]
  },
  {
   "cell_type": "code",
   "execution_count": 2,
   "id": "feaa33ca",
   "metadata": {},
   "outputs": [
    {
     "name": "stdout",
     "output_type": "stream",
     "text": [
      "Welcome to the PyPassword Generator!\n",
      "How many letters would you like in your password?\n",
      "8\n",
      "How many symbols would you like?\n",
      "3\n",
      "How many numbers would you like?\n",
      "3\n",
      "Your generated password is: 8&#C$dsbDO1k2S\n"
     ]
    }
   ],
   "source": [
    "import random\n",
    "letters = ['a', 'b', 'c', 'd', 'e', 'f', 'g', 'h', 'i', 'j', 'k', 'l', 'm', 'n', 'o', 'p', 'q', 'r', 's', 't', 'u', 'v', 'w', 'x', 'y', 'z', 'A', 'B', 'C', 'D', 'E', 'F', 'G', 'H', 'I', 'J', 'K', 'L', 'M', 'N', 'O', 'P', 'Q', 'R', 'S', 'T', 'U', 'V', 'W', 'X', 'Y', 'Z']\n",
    "numbers = ['0', '1', '2', '3', '4', '5', '6', '7', '8', '9']\n",
    "symbols = ['!', '#', '$', '%', '&', '(', ')', '*', '+']\n",
    "\n",
    "print(\"Welcome to the PyPassword Generator!\")\n",
    "nr_letters= int(input(\"How many letters would you like in your password?\\n\")) \n",
    "nr_symbols = int(input(f\"How many symbols would you like?\\n\"))\n",
    "nr_numbers = int(input(f\"How many numbers would you like?\\n\"))\n",
    "nr = nr_letters + nr_symbols + nr_numbers\n",
    "pw = ''\n",
    "l_counter = 0\n",
    "s_counter = 0\n",
    "n_counter = 0\n",
    "\n",
    "for i in range(nr):\n",
    "    if l_counter < nr_letters and s_counter < nr_symbols and n_counter < nr_numbers:\n",
    "        chars = [letters, symbols, numbers]\n",
    "    elif l_counter == nr_letters and s_counter < nr_symbols and n_counter < nr_numbers:\n",
    "        chars = [symbols, numbers]\n",
    "    elif l_counter < nr_letters and s_counter == nr_symbols and n_counter < nr_numbers:\n",
    "        chars = [letters, numbers]\n",
    "    elif l_counter < nr_letters and s_counter < nr_symbols and n_counter == nr_numbers:\n",
    "        chars = [letters, symbols]\n",
    "    elif l_counter == nr_letters and s_counter == nr_symbols and n_counter < nr_numbers:\n",
    "        chars = [numbers]\n",
    "    elif l_counter == nr_letters and s_counter < nr_symbols and n_counter == nr_numbers:\n",
    "        chars = [symbols]\n",
    "    elif l_counter < nr_letters and s_counter == nr_symbols and n_counter == nr_numbers:\n",
    "        chars = [letters]\n",
    "    \n",
    "    rand_list = chars[random.randint(0, len(chars)-1)]\n",
    "    rand_index = random.randint(0, len(rand_list)-1)\n",
    "    pw += rand_list[rand_index]\n",
    "    \n",
    "    if rand_list[rand_index] in letters:\n",
    "        l_counter += 1\n",
    "    elif rand_list[rand_index] in symbols:\n",
    "        s_counter += 1\n",
    "    elif rand_list[rand_index] in numbers:\n",
    "        n_counter += 1\n",
    "\n",
    "print(f'Your generated password is: {pw}')"
   ]
  }
 ],
 "metadata": {
  "kernelspec": {
   "display_name": "Python 3 (ipykernel)",
   "language": "python",
   "name": "python3"
  },
  "language_info": {
   "codemirror_mode": {
    "name": "ipython",
    "version": 3
   },
   "file_extension": ".py",
   "mimetype": "text/x-python",
   "name": "python",
   "nbconvert_exporter": "python",
   "pygments_lexer": "ipython3",
   "version": "3.9.7"
  }
 },
 "nbformat": 4,
 "nbformat_minor": 5
}
