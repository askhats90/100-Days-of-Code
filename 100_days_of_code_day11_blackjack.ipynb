{
 "cells": [
  {
   "cell_type": "markdown",
   "id": "01a56bf4",
   "metadata": {},
   "source": [
    "## Developing BlackJack Game"
   ]
  },
  {
   "cell_type": "code",
   "execution_count": 1,
   "id": "1ede3ed5",
   "metadata": {},
   "outputs": [],
   "source": [
    "############### Blackjack Project #####################\n",
    "\n",
    "#Difficulty Normal 😎: Use all Hints below to complete the project.\n",
    "#Difficulty Hard 🤔: Use only Hints 1, 2, 3 to complete the project.\n",
    "#Difficulty Extra Hard 😭: Only use Hints 1 & 2 to complete the project.\n",
    "#Difficulty Expert 🤯: Only use Hint 1 to complete the project.\n",
    "\n",
    "############### Our Blackjack House Rules #####################\n",
    "\n",
    "## The deck is unlimited in size. \n",
    "## There are no jokers. \n",
    "## The Jack/Queen/King all count as 10.\n",
    "## The the Ace can count as 11 or 1.\n",
    "## Use the following list as the deck of cards:\n",
    "## cards = [11, 2, 3, 4, 5, 6, 7, 8, 9, 10, 10, 10, 10]\n",
    "## The cards in the list have equal probability of being drawn.\n",
    "## Cards are not removed from the deck as they are drawn.\n",
    "## The computer is the dealer."
   ]
  },
  {
   "cell_type": "code",
   "execution_count": 104,
   "id": "be372d5c",
   "metadata": {},
   "outputs": [],
   "source": [
    "import random\n",
    "cards = [11, 2, 3, 4, 5, 6, 7, 8, 9, 10, 10, 10, 10]"
   ]
  },
  {
   "cell_type": "code",
   "execution_count": 122,
   "id": "ad3f3a5b",
   "metadata": {
    "scrolled": true
   },
   "outputs": [
    {
     "name": "stdout",
     "output_type": "stream",
     "text": [
      "------------------------------------------------------------------------------\n",
      "Your cards: [2, 11], current_score: 13\n",
      "Dealer's first card: 10\n",
      "Type 'y' to get another card, type 'n' to pass: y\n",
      "------------------------------------------------------------------------------\n",
      "Your cards: [2, 11, 2], current_score: 15\n",
      "Dealer's first card: 10\n",
      "Type 'y' to get another card, type 'n' to pass: y\n",
      "------------------------------------------------------------------------------\n",
      "Your cards: [2, 11, 2, 4], current_score: 19\n",
      "Dealer's first card: 10\n",
      "Type 'y' to get another card, type 'n' to pass: n\n",
      "------------------------------------------------------------------------------\n",
      "Your final hand: [2, 11, 2, 4], final score: 19\n",
      "Dealer's final hand: [10, 10], final score: 20\n",
      "You lost!\n"
     ]
    }
   ],
   "source": [
    "# Инициализация списков и словаря\n",
    "your_cards = random.choices(cards, k=2)\n",
    "dealer_cards = random.choices(cards, k=1)\n",
    "deck = {\"your_cards\": your_cards,\n",
    "        \"dealer_cards\": dealer_cards\n",
    "       }\n",
    "\n",
    "# Запуск игры\n",
    "if calc_score('your_cards') > 21:\n",
    "    deck['your_cards'] = replace_aces('your_cards')\n",
    "\n",
    "current_state('your_cards', 'dealer_cards')\n",
    "\n",
    "game()"
   ]
  },
  {
   "cell_type": "code",
   "execution_count": 5,
   "id": "b88d54be",
   "metadata": {},
   "outputs": [],
   "source": [
    "def replace_aces(player):\n",
    "    temp_list = deck[player]\n",
    "    if calc_score(player) > 21:\n",
    "        temp_list = [1 if i == 11 else i for i in deck[player]]\n",
    "    return temp_list"
   ]
  },
  {
   "cell_type": "code",
   "execution_count": 6,
   "id": "be70ab14",
   "metadata": {},
   "outputs": [],
   "source": [
    "def calc_score(player):\n",
    "    score = 0\n",
    "    for i in deck[player]:\n",
    "        score += i\n",
    "    return score"
   ]
  },
  {
   "cell_type": "code",
   "execution_count": 7,
   "id": "f18d63d1",
   "metadata": {},
   "outputs": [],
   "source": [
    "def dealer_hand(player1, player2):\n",
    "    while calc_score(player2) < 17:\n",
    "        deck[player2].append(draw_card())\n",
    "        deck[player2] = replace_aces('dealer_cards')\n",
    "    final_state(player1, player2)"
   ]
  },
  {
   "cell_type": "code",
   "execution_count": 31,
   "id": "aa5b53f3",
   "metadata": {},
   "outputs": [],
   "source": [
    "def current_state(player1, player2):\n",
    "    print(\"------------------------------------------------------------------------------\")\n",
    "    print(f\"Your cards: {deck[player1]}, current_score: {calc_score(player1)}\")\n",
    "    print(f\"Dealer's first card: {deck[player2][0]}\")"
   ]
  },
  {
   "cell_type": "code",
   "execution_count": 30,
   "id": "cbace7df",
   "metadata": {},
   "outputs": [],
   "source": [
    "def final_state(player1, player2):\n",
    "    print(\"------------------------------------------------------------------------------\")\n",
    "    print(f\"Your final hand: {deck[player1]}, final score: {calc_score(player1)}\")\n",
    "    print(f\"Dealer's final hand: {deck[player2]}, final score: {calc_score(player2)}\")"
   ]
  },
  {
   "cell_type": "code",
   "execution_count": 10,
   "id": "0a33332f",
   "metadata": {},
   "outputs": [],
   "source": [
    "def compare_scores(player1, player2):\n",
    "    if calc_score(player2) > 21:\n",
    "        print(\"Dealer bust! You won!\")\n",
    "    elif calc_score(player1) > calc_score(player2):\n",
    "        print(\"You won!\")\n",
    "    elif calc_score(player1) == calc_score(player2):\n",
    "        print(\"Draw.\")\n",
    "    elif calc_score(player1) < calc_score(player2):\n",
    "        print(\"You lost!\")"
   ]
  },
  {
   "cell_type": "code",
   "execution_count": 11,
   "id": "294a769a",
   "metadata": {},
   "outputs": [],
   "source": [
    "def game_over(player1, player2):\n",
    "    if calc_score(player1) > 21 or calc_score(player2) > 21:\n",
    "        return False\n",
    "    else:\n",
    "        return True"
   ]
  },
  {
   "cell_type": "code",
   "execution_count": 58,
   "id": "41bb91e4",
   "metadata": {},
   "outputs": [],
   "source": [
    "def game():\n",
    "    if calc_score('your_cards') > 21:\n",
    "        deck['your_cards'] = replace_aces('your_cards')\n",
    "        print(deck['your_cards'])\n",
    "    elif calc_score('your_cards') == 21:\n",
    "        dealer_hand('your_cards', 'dealer_cards')\n",
    "        if calc_score('dealer_cards') == 21:\n",
    "            print(\"Draw.\")\n",
    "        else:\n",
    "            print(\"BlackJack!!! You won!\")\n",
    "    else:            \n",
    "        while game_over('your_cards', 'dealer_cards'):\n",
    "            if input(\"Type 'y' to get another card, type 'n' to pass: \") == 'y':\n",
    "                deck['your_cards'].append(draw_card())\n",
    "                deck['your_cards'] = replace_aces('your_cards')\n",
    "                current_state('your_cards', 'dealer_cards')\n",
    "\n",
    "                if calc_score('your_cards') > 21:\n",
    "                    dealer_hand('your_cards', 'dealer_cards')\n",
    "                    print(\"You bust! You lost.\")\n",
    "\n",
    "            else:\n",
    "                dealer_hand('your_cards', 'dealer_cards')\n",
    "                compare_scores('your_cards', 'dealer_cards')\n",
    "                break\n",
    "\n",
    "#         new_game = input(\"Do you want to play once again? y/n \")\n",
    "#         if new_game == 'y':\n",
    "#             your_cards = [draw_card(), draw_card()]\n",
    "#             dealer_cards = [draw_card()]\n",
    "#             deck = {\"your_cards\": your_cards,\n",
    "#                     \"dealer_cards\": dealer_cards\n",
    "#                    }\n",
    "#             game()"
   ]
  }
 ],
 "metadata": {
  "kernelspec": {
   "display_name": "Python 3 (ipykernel)",
   "language": "python",
   "name": "python3"
  },
  "language_info": {
   "codemirror_mode": {
    "name": "ipython",
    "version": 3
   },
   "file_extension": ".py",
   "mimetype": "text/x-python",
   "name": "python",
   "nbconvert_exporter": "python",
   "pygments_lexer": "ipython3",
   "version": "3.9.7"
  }
 },
 "nbformat": 4,
 "nbformat_minor": 5
}
