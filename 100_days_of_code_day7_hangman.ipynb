{
 "cells": [
  {
   "cell_type": "markdown",
   "id": "4938d84d",
   "metadata": {},
   "source": [
    "## Developing Hangman game"
   ]
  },
  {
   "cell_type": "code",
   "execution_count": 2,
   "id": "57180f18",
   "metadata": {},
   "outputs": [],
   "source": [
    "import random"
   ]
  },
  {
   "cell_type": "code",
   "execution_count": 154,
   "id": "57ceeb1a",
   "metadata": {
    "scrolled": true
   },
   "outputs": [],
   "source": [
    "words = ['mouse', 'planet', 'arkham', 'building']\n",
    "word = random.choice(words)\n",
    "#print(word)\n",
    "\n",
    "hidden_word = ''\n",
    "for i in range(len(word)):\n",
    "    hidden_word += '_ '\n",
    "hidden_word = hidden_word.rstrip()\n",
    "#print(hidden_word)\n",
    "\n",
    "word_listed = list(word)\n",
    "#print(word_listed)\n",
    "hidden_word_listed = hidden_word.split(sep=' ')\n",
    "#print(hidden_word_listed)\n",
    "\n",
    "remaining_lives = 5"
   ]
  },
  {
   "cell_type": "code",
   "execution_count": 85,
   "id": "d83312c5",
   "metadata": {},
   "outputs": [],
   "source": [
    "def search_letter(letter):\n",
    "    global remaining_lives\n",
    "    if letter not in word_listed:\n",
    "        remaining_lives -= 1\n",
    "    else:\n",
    "        for index, i in enumerate(word_listed):\n",
    "            if i == user_letter:\n",
    "                hidden_word_listed[index] = word_listed[index]"
   ]
  },
  {
   "cell_type": "code",
   "execution_count": 137,
   "id": "1eab1554",
   "metadata": {},
   "outputs": [],
   "source": [
    "def form_hidden_word():\n",
    "    global hidden_word\n",
    "    hidden_word = ''\n",
    "    for i in hidden_word_listed:\n",
    "        hidden_word += i + ' '\n",
    "    hidden_word = hidden_word.rstrip()\n",
    "    return hidden_word"
   ]
  },
  {
   "cell_type": "code",
   "execution_count": 155,
   "id": "c04659dd",
   "metadata": {},
   "outputs": [
    {
     "name": "stdout",
     "output_type": "stream",
     "text": [
      "Welcome to Hangman!\n",
      "You need to guess a word by typing one letter at a time.\n",
      "\n",
      "Your word is: _ _ _ _ _\n",
      "You have 5 remaining lives and you will lose one life if your letter is not in the word.\n",
      "Please choose a letter! m\n",
      "\n",
      "Your word is: m _ _ _ _\n",
      "You have 5 remaining lives.\n",
      "Please choose a letter! q\n",
      "\n",
      "Your word is: m _ _ _ _\n",
      "You have 4 remaining lives.\n",
      "Please choose a letter! q\n",
      "\n",
      "Your word is: m _ _ _ _\n",
      "You have 3 remaining lives.\n",
      "Please choose a letter! q\n",
      "\n",
      "Your word is: m _ _ _ _\n",
      "You have 2 remaining lives.\n",
      "Please choose a letter! q\n",
      "\n",
      "Your word is: m _ _ _ _\n",
      "You have 1 remaining lives.\n",
      "Please choose a letter! q\n",
      "\n",
      "Your word is: m _ _ _ _\n",
      "You have 0 remaining lives.\n",
      "Game over!\n",
      "You lost!\n",
      "The word was: mouse\n"
     ]
    }
   ],
   "source": [
    "print('Welcome to Hangman!')\n",
    "print('You need to guess a word by typing one letter at a time.')\n",
    "print('\\nYour word is: ' + hidden_word)    \n",
    "print(f'You have {remaining_lives} remaining lives and you will lose one life if your letter is not in the word.')\n",
    "    \n",
    "while not word_listed == hidden_word_listed and remaining_lives > 0:\n",
    "    user_letter = input('Please choose a letter! ')\n",
    "    search_letter(user_letter)\n",
    "    form_hidden_word()\n",
    "   \n",
    "    print('\\nYour word is: ' + hidden_word)    \n",
    "    print(f'You have {remaining_lives} remaining lives.')\n",
    "\n",
    "print('Game over!')\n",
    "\n",
    "if word_listed == hidden_word_listed:\n",
    "    print('You won!')\n",
    "elif remaining_lives == 0:\n",
    "    print('You lost!')\n",
    "    print('The word was: ' + word)\n",
    "else:\n",
    "    print('What the heck?!')"
   ]
  }
 ],
 "metadata": {
  "kernelspec": {
   "display_name": "Python 3 (ipykernel)",
   "language": "python",
   "name": "python3"
  },
  "language_info": {
   "codemirror_mode": {
    "name": "ipython",
    "version": 3
   },
   "file_extension": ".py",
   "mimetype": "text/x-python",
   "name": "python",
   "nbconvert_exporter": "python",
   "pygments_lexer": "ipython3",
   "version": "3.9.7"
  }
 },
 "nbformat": 4,
 "nbformat_minor": 5
}
