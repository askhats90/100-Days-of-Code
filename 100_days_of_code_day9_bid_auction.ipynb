{
 "cells": [
  {
   "cell_type": "markdown",
   "id": "d413987f",
   "metadata": {},
   "source": [
    "## Bid Auction"
   ]
  },
  {
   "cell_type": "code",
   "execution_count": 1,
   "id": "08b5ac90",
   "metadata": {},
   "outputs": [
    {
     "name": "stdout",
     "output_type": "stream",
     "text": [
      "What is your name? A\n",
      "What is your bid? $20\n",
      "Is there new bidder? Type 'y' or 'n'. y\n",
      "What is your name? B\n",
      "What is your bid? $34\n",
      "Is there new bidder? Type 'y' or 'n'. y\n",
      "What is your name? C\n",
      "What is your bid? $23\n",
      "Is there new bidder? Type 'y' or 'n'. D\n",
      "Choose valid option.\n",
      "What is your name? D\n",
      "What is your bid? $45\n",
      "Is there new bidder? Type 'y' or 'n'. y\n",
      "What is your name? E\n",
      "What is your bid? $8\n",
      "Is there new bidder? Type 'y' or 'n'. n\n",
      "\n",
      "The highest bid 45 belongs to D!\n"
     ]
    }
   ],
   "source": [
    "players_dict = {}\n",
    "end = True\n",
    "\n",
    "while end:\n",
    "    name = input(\"What is your name? \")\n",
    "    bid_value = int(input(\"What is your bid? $\"))\n",
    "    players_dict[name] = bid_value\n",
    "    new_round = input(\"Is there new bidder? Type 'y' or 'n'. \")\n",
    "    if new_round == 'y':\n",
    "        end = True\n",
    "    elif new_round == 'n':\n",
    "        end = False\n",
    "    else:\n",
    "        print(\"Choose valid option.\")\n",
    "        \n",
    "winner = ''\n",
    "max_bid = 0\n",
    "for i in players_dict:\n",
    "    if players_dict[i] > max_bid:\n",
    "        max_bid = players_dict[i]\n",
    "        winner = i\n",
    "print(f\"\\nThe highest bid {max_bid} belongs to {winner}!\")"
   ]
  }
 ],
 "metadata": {
  "kernelspec": {
   "display_name": "Python 3 (ipykernel)",
   "language": "python",
   "name": "python3"
  },
  "language_info": {
   "codemirror_mode": {
    "name": "ipython",
    "version": 3
   },
   "file_extension": ".py",
   "mimetype": "text/x-python",
   "name": "python",
   "nbconvert_exporter": "python",
   "pygments_lexer": "ipython3",
   "version": "3.9.7"
  }
 },
 "nbformat": 4,
 "nbformat_minor": 5
}
